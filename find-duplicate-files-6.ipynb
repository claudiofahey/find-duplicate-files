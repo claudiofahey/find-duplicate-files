{
 "cells": [
  {
   "cell_type": "markdown",
   "metadata": {},
   "source": [
    "Using file hashes, find duplicate files and delete them.\n",
    "\n",
    "Uses rules to determine the copy to keep.\n",
    "\n",
    "Creates Windows shortcuts from deleted files to kept files."
   ]
  },
  {
   "cell_type": "code",
   "execution_count": null,
   "metadata": {},
   "outputs": [],
   "source": [
    "import pandas as pd\n",
    "import numpy as np\n",
    "import os\n",
    "from pathlib import Path, PurePath, PurePosixPath"
   ]
  },
  {
   "cell_type": "code",
   "execution_count": null,
   "metadata": {},
   "outputs": [],
   "source": [
    "pd.set_option('display.max_colwidth', -1)"
   ]
  },
  {
   "cell_type": "code",
   "execution_count": null,
   "metadata": {},
   "outputs": [],
   "source": [
    "os.chdir('M:\\\\')"
   ]
  },
  {
   "cell_type": "code",
   "execution_count": null,
   "metadata": {},
   "outputs": [],
   "source": [
    "file_hash_df = pd.read_json('file_hash_cache.json', orient='records', lines=True)\n",
    "file_hash_df"
   ]
  },
  {
   "cell_type": "code",
   "execution_count": null,
   "metadata": {},
   "outputs": [],
   "source": [
    "hash_dict = file_hash_df.groupby(['hash'])['filename'].apply(list).to_dict()"
   ]
  },
  {
   "cell_type": "code",
   "execution_count": null,
   "metadata": {},
   "outputs": [],
   "source": [
    "dup_hash_dict = {k:v for k,v in hash_dict.items() if len(v) > 1}"
   ]
  },
  {
   "cell_type": "code",
   "execution_count": null,
   "metadata": {},
   "outputs": [],
   "source": [
    "keep_dirs = [\n",
    "    'Erika/',\n",
    "]\n",
    "delete_dirs = [\n",
    "    'iCloud Photos/Downloads/',\n",
    "    'iPhone',\n",
    "    'Camera Uploads/',\n",
    "    'Photo Frame/',\n",
    "    'sort/', 'Sort/',\n",
    "    'misc/', 'Misc/',\n",
    "    'APPLE',\n",
    "    'To print/', 'To Print/',\n",
    "    'My Music/',\n",
    "    'wetransfer',\n",
    "]"
   ]
  },
  {
   "cell_type": "code",
   "execution_count": null,
   "metadata": {},
   "outputs": [],
   "source": [
    "def score_file_to_delete(filename):\n",
    "    \"\"\"\n",
    "    The file with the lowest score will be kept (not deleted).\n",
    "    Prefer to delete files automatically downloaded from iCloud Photos.\n",
    "    Prefer to delete files with IMG in name.\n",
    "    Prefer to keep files with longest name.\n",
    "    Keep only 1 file. Delete all others.\n",
    "    \"\"\"\n",
    "    score = []\n",
    "    for d in keep_dirs:\n",
    "        score += [-int(d in filename)]\n",
    "    for d in delete_dirs:\n",
    "        score += [int(d in filename)]\n",
    "    basename = os.path.basename(filename)\n",
    "    score += [int('img' in basename.lower())]\n",
    "    score += [-len(basename)]\n",
    "    score += [-len(filename)]\n",
    "    return tuple(score)"
   ]
  },
  {
   "cell_type": "code",
   "execution_count": null,
   "metadata": {},
   "outputs": [],
   "source": [
    "def score_files_to_delete(filenames):\n",
    "    return [(score_file_to_delete(f), f) for f in filenames]    "
   ]
  },
  {
   "cell_type": "code",
   "execution_count": null,
   "metadata": {},
   "outputs": [],
   "source": [
    "def rank_files_to_delete(scores):\n",
    "    return [s[1] for s in sorted(scores)]"
   ]
  },
  {
   "cell_type": "code",
   "execution_count": null,
   "metadata": {},
   "outputs": [],
   "source": [
    "test_info = [\n",
    "    ['Erika/Pictures/Photos/2016-05-22/IMG_3014.PNG','Erika/Pictures/Photos/103APPLE/IMG_3014.PNG'],\n",
    "    ['Claudio/Claudio Photos/2016-07/IMG_6044.JPG','Claudio/Claudio Photos/Claudio’s iPhone 5S white 2016-06-05 to 2018-02-11/2016-07-02_224949640_F9589_iOS.jpg'],\n",
    "    ['Erika/Pictures/Photos/2015-07-12/IMG_2507.JPG','Erika/Pictures/Photos/2016-05-22/IMG_2507.JPG'],\n",
    "    ['Erika/Pictures/Photos/2015-07-12/IMG_2507.JPG','Erika/Pictures/iCloud Photos/Downloads/2015/IMG_2507.JPG'],\n",
    "    ['Erika/Pictures/Photos/113APPLE/IMG_3191.JPG','Erika/Pictures/iCloud Photos/Downloads/2017/IMG_3191.JPG'],\n",
    "    ['Erika/Pictures/Photos/Photo Frame/101.jpg','Claudio/Claudio Photos/Claudio-Erika2.jpg'],\n",
    "    ['Erika/Pictures/Photos/Alex-2015-05-30/IMG_9747.JPG','Erika/Pictures/Photos/Camera Uploads/2015-05-30 15.13.35.jpg'],\n",
    "]\n",
    "for t in test_info:\n",
    "    scores = score_files_to_delete(t)\n",
    "    ranked = rank_files_to_delete(scores)\n",
    "    assert ranked[0] == t[0], 'failed: ' + str(t) + ', scores=' + str(scores)"
   ]
  },
  {
   "cell_type": "code",
   "execution_count": null,
   "metadata": {},
   "outputs": [],
   "source": [
    "scored_dict = {k: rank_files_to_delete(score_files_to_delete(v)) for k,v in dup_hash_dict.items()}"
   ]
  },
  {
   "cell_type": "code",
   "execution_count": null,
   "metadata": {},
   "outputs": [],
   "source": [
    "dup_list = [(hash, filenames[0], filename) for hash, filenames in scored_dict.items() for filename in filenames[1:]]"
   ]
  },
  {
   "cell_type": "code",
   "execution_count": null,
   "metadata": {},
   "outputs": [],
   "source": [
    "dup_list[:5]"
   ]
  },
  {
   "cell_type": "code",
   "execution_count": null,
   "metadata": {},
   "outputs": [],
   "source": [
    "filename_df = pd.DataFrame(dup_list, columns=['hash', 'keep_filename', 'delete_filename'])\n",
    "filename_df = filename_df.sort_values(['keep_filename','delete_filename'])\n",
    "filename_df"
   ]
  },
  {
   "cell_type": "code",
   "execution_count": null,
   "metadata": {},
   "outputs": [],
   "source": [
    "filename_df.to_csv('Claudio/find-duplicates/delete_filename.csv')"
   ]
  },
  {
   "cell_type": "code",
   "execution_count": null,
   "metadata": {},
   "outputs": [],
   "source": [
    "dir_df = filename_df.copy()\n",
    "dir_df['keep_dirname'] = dir_df['keep_filename'].apply(os.path.dirname)\n",
    "dir_df['delete_dirname'] = dir_df['delete_filename'].apply(os.path.dirname)\n",
    "dir_df = dir_df[['keep_dirname','delete_dirname']].drop_duplicates().sort_values(['keep_dirname','delete_dirname']).reset_index(drop=True)\n",
    "dir_df"
   ]
  },
  {
   "cell_type": "code",
   "execution_count": null,
   "metadata": {},
   "outputs": [],
   "source": [
    "delete_dirname_df = dir_df\n",
    "#delete_dirname_df = pd.DataFrame(dir_df.groupby(['keep_dirname'])['delete_dirname'].apply(list).apply(lambda x: ','.join(x)).sort_index())\n",
    "#delete_dirname_df"
   ]
  },
  {
   "cell_type": "code",
   "execution_count": null,
   "metadata": {},
   "outputs": [],
   "source": [
    "delete_dirname_df.to_csv('Claudio/find-duplicates/delete_dirname.csv')"
   ]
  },
  {
   "cell_type": "markdown",
   "metadata": {},
   "source": [
    "## Create shortcuts to replace deleted files"
   ]
  },
  {
   "cell_type": "code",
   "execution_count": null,
   "metadata": {},
   "outputs": [],
   "source": [
    "!pip install winshell"
   ]
  },
  {
   "cell_type": "code",
   "execution_count": null,
   "metadata": {},
   "outputs": [],
   "source": [
    "import winshell"
   ]
  },
  {
   "cell_type": "code",
   "execution_count": null,
   "metadata": {},
   "outputs": [],
   "source": [
    "%%time\n",
    "root_dir = '\\\\\\\\WinFileSrv\\\\slowdata1'\n",
    "for index, row in filename_df.iterrows():\n",
    "    target_filename = os.path.realpath(os.path.join(root_dir, row.keep_filename))\n",
    "    shortcut_filename = os.path.realpath(row.delete_filename) + '.lnk'\n",
    "    #print(shortcut_filename, target_filename)\n",
    "    assert Path(target_filename).is_file()\n",
    "    with winshell.shortcut(shortcut_filename) as shortcut:\n",
    "          shortcut.path = target_filename"
   ]
  },
  {
   "cell_type": "code",
   "execution_count": null,
   "metadata": {},
   "outputs": [],
   "source": [
    "## Delete shortcuts"
   ]
  },
  {
   "cell_type": "code",
   "execution_count": null,
   "metadata": {},
   "outputs": [],
   "source": [
    "%%time\n",
    "if False:\n",
    "    for index, row in filename_df.iterrows():\n",
    "        shortcut_filename = os.path.realpath(row.delete_filename) + '.lnk'\n",
    "        os.remove(shortcut_filename)"
   ]
  },
  {
   "cell_type": "markdown",
   "metadata": {},
   "source": [
    "## Delete duplicate files"
   ]
  },
  {
   "cell_type": "code",
   "execution_count": null,
   "metadata": {},
   "outputs": [],
   "source": [
    "%%time\n",
    "for index, row in filename_df.reset_index().iterrows():\n",
    "    if index % 1000 == 0: print(row.delete_filename)\n",
    "    if Path(row.delete_filename).is_file():\n",
    "        try:\n",
    "            os.remove(row.delete_filename)\n",
    "        except Exception as ex:\n",
    "            print(ex)"
   ]
  },
  {
   "cell_type": "code",
   "execution_count": null,
   "metadata": {},
   "outputs": [],
   "source": []
  }
 ],
 "metadata": {
  "kernelspec": {
   "display_name": "Python 3",
   "language": "python",
   "name": "python3"
  },
  "language_info": {
   "codemirror_mode": {
    "name": "ipython",
    "version": 3
   },
   "file_extension": ".py",
   "mimetype": "text/x-python",
   "name": "python",
   "nbconvert_exporter": "python",
   "pygments_lexer": "ipython3",
   "version": "3.7.4"
  }
 },
 "nbformat": 4,
 "nbformat_minor": 4
}
